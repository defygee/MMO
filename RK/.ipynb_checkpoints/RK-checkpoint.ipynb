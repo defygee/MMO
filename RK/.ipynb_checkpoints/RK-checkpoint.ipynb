{
 "cells": [
  {
   "cell_type": "markdown",
   "id": "2affadbe",
   "metadata": {},
   "source": [
    "# Рубежный контроль\n",
    "## Вариант: *7* \n",
    "## Номер задачи №1: *7*\tНомер задачи №2: *27*"
   ]
  },
  {
   "cell_type": "code",
   "execution_count": 1,
   "id": "a2a99e22",
   "metadata": {},
   "outputs": [],
   "source": [
    "import pandas as pd\n",
    "import numpy as np\n",
    "import seaborn as sns\n",
    "import matplotlib.pyplot as plt"
   ]
  },
  {
   "cell_type": "code",
   "execution_count": 3,
   "id": "84e9223f",
   "metadata": {},
   "outputs": [],
   "source": [
    "df = pd.read_csv('tesla_stocks.csv')"
   ]
  },
  {
   "cell_type": "code",
   "execution_count": 4,
   "id": "328c93e4",
   "metadata": {},
   "outputs": [
    {
     "data": {
      "text/html": [
       "<div>\n",
       "<style scoped>\n",
       "    .dataframe tbody tr th:only-of-type {\n",
       "        vertical-align: middle;\n",
       "    }\n",
       "\n",
       "    .dataframe tbody tr th {\n",
       "        vertical-align: top;\n",
       "    }\n",
       "\n",
       "    .dataframe thead th {\n",
       "        text-align: right;\n",
       "    }\n",
       "</style>\n",
       "<table border=\"1\" class=\"dataframe\">\n",
       "  <thead>\n",
       "    <tr style=\"text-align: right;\">\n",
       "      <th></th>\n",
       "      <th>Date</th>\n",
       "      <th>Open</th>\n",
       "      <th>High</th>\n",
       "      <th>Low</th>\n",
       "      <th>Close</th>\n",
       "      <th>Adj Close</th>\n",
       "      <th>Volume</th>\n",
       "    </tr>\n",
       "  </thead>\n",
       "  <tbody>\n",
       "    <tr>\n",
       "      <th>0</th>\n",
       "      <td>2010-06-29</td>\n",
       "      <td>3.800</td>\n",
       "      <td>5.000</td>\n",
       "      <td>3.508</td>\n",
       "      <td>4.778</td>\n",
       "      <td>4.778</td>\n",
       "      <td>93831500</td>\n",
       "    </tr>\n",
       "    <tr>\n",
       "      <th>1</th>\n",
       "      <td>2010-06-30</td>\n",
       "      <td>5.158</td>\n",
       "      <td>6.084</td>\n",
       "      <td>4.660</td>\n",
       "      <td>4.766</td>\n",
       "      <td>4.766</td>\n",
       "      <td>85935500</td>\n",
       "    </tr>\n",
       "    <tr>\n",
       "      <th>2</th>\n",
       "      <td>2010-07-01</td>\n",
       "      <td>5.000</td>\n",
       "      <td>5.184</td>\n",
       "      <td>4.054</td>\n",
       "      <td>4.392</td>\n",
       "      <td>4.392</td>\n",
       "      <td>41094000</td>\n",
       "    </tr>\n",
       "    <tr>\n",
       "      <th>3</th>\n",
       "      <td>2010-07-02</td>\n",
       "      <td>4.600</td>\n",
       "      <td>4.620</td>\n",
       "      <td>3.742</td>\n",
       "      <td>3.840</td>\n",
       "      <td>3.840</td>\n",
       "      <td>25699000</td>\n",
       "    </tr>\n",
       "    <tr>\n",
       "      <th>4</th>\n",
       "      <td>2010-07-06</td>\n",
       "      <td>4.000</td>\n",
       "      <td>4.000</td>\n",
       "      <td>3.166</td>\n",
       "      <td>3.222</td>\n",
       "      <td>3.222</td>\n",
       "      <td>34334500</td>\n",
       "    </tr>\n",
       "  </tbody>\n",
       "</table>\n",
       "</div>"
      ],
      "text/plain": [
       "         Date   Open   High    Low  Close  Adj Close    Volume\n",
       "0  2010-06-29  3.800  5.000  3.508  4.778      4.778  93831500\n",
       "1  2010-06-30  5.158  6.084  4.660  4.766      4.766  85935500\n",
       "2  2010-07-01  5.000  5.184  4.054  4.392      4.392  41094000\n",
       "3  2010-07-02  4.600  4.620  3.742  3.840      3.840  25699000\n",
       "4  2010-07-06  4.000  4.000  3.166  3.222      3.222  34334500"
      ]
     },
     "execution_count": 4,
     "metadata": {},
     "output_type": "execute_result"
    }
   ],
   "source": [
    "df.head()"
   ]
  },
  {
   "cell_type": "markdown",
   "id": "33e213e6",
   "metadata": {},
   "source": [
    "## Задача 1\n",
    "Для набора данных проведите устранение пропусков для одного (произвольного) числового признака с использованием метода заполнения медианой."
   ]
  },
  {
   "cell_type": "code",
   "execution_count": 11,
   "id": "2731c6a9",
   "metadata": {},
   "outputs": [],
   "source": [
    "df['Low'] = df['Low'].fillna(np.median(df['Low']))"
   ]
  },
  {
   "cell_type": "markdown",
   "id": "10fb4017",
   "metadata": {},
   "source": [
    "## Задача 2\n",
    "Для набора данных для одного (произвольного) числового признака проведите обнаружение и замену (найденными верхними и нижними границами) выбросов на основе 5% и 95% квантилей."
   ]
  },
  {
   "cell_type": "code",
   "execution_count": 13,
   "id": "7288a471",
   "metadata": {},
   "outputs": [
    {
     "data": {
      "text/plain": [
       "773.3179750999999"
      ]
     },
     "execution_count": 13,
     "metadata": {},
     "output_type": "execute_result"
    }
   ],
   "source": [
    "np.quantile(df['Low'], 0.95)"
   ]
  },
  {
   "cell_type": "code",
   "execution_count": 17,
   "id": "e736e615",
   "metadata": {},
   "outputs": [],
   "source": [
    "df['Low'] = np.where(df['Low'] > np.quantile(df['Low'], 0.95), np.quantile(df['Low'], 0.95), df['Low'])\n",
    "df['Low'] = np.where(df['Low'] < np.quantile(df['Low'], 0.05), np.quantile(df['Low'], 0.05), df['Low'])"
   ]
  },
  {
   "cell_type": "code",
   "execution_count": 18,
   "id": "16c0ed3f",
   "metadata": {},
   "outputs": [
    {
     "data": {
      "text/html": [
       "<div>\n",
       "<style scoped>\n",
       "    .dataframe tbody tr th:only-of-type {\n",
       "        vertical-align: middle;\n",
       "    }\n",
       "\n",
       "    .dataframe tbody tr th {\n",
       "        vertical-align: top;\n",
       "    }\n",
       "\n",
       "    .dataframe thead th {\n",
       "        text-align: right;\n",
       "    }\n",
       "</style>\n",
       "<table border=\"1\" class=\"dataframe\">\n",
       "  <thead>\n",
       "    <tr style=\"text-align: right;\">\n",
       "      <th></th>\n",
       "      <th>Date</th>\n",
       "      <th>Open</th>\n",
       "      <th>High</th>\n",
       "      <th>Low</th>\n",
       "      <th>Close</th>\n",
       "      <th>Adj Close</th>\n",
       "      <th>Volume</th>\n",
       "    </tr>\n",
       "  </thead>\n",
       "  <tbody>\n",
       "    <tr>\n",
       "      <th>0</th>\n",
       "      <td>2010-06-29</td>\n",
       "      <td>3.800000</td>\n",
       "      <td>5.000000</td>\n",
       "      <td>4.710000</td>\n",
       "      <td>4.778000</td>\n",
       "      <td>4.778000</td>\n",
       "      <td>93831500</td>\n",
       "    </tr>\n",
       "    <tr>\n",
       "      <th>1</th>\n",
       "      <td>2010-06-30</td>\n",
       "      <td>5.158000</td>\n",
       "      <td>6.084000</td>\n",
       "      <td>4.710000</td>\n",
       "      <td>4.766000</td>\n",
       "      <td>4.766000</td>\n",
       "      <td>85935500</td>\n",
       "    </tr>\n",
       "    <tr>\n",
       "      <th>2</th>\n",
       "      <td>2010-07-01</td>\n",
       "      <td>5.000000</td>\n",
       "      <td>5.184000</td>\n",
       "      <td>4.710000</td>\n",
       "      <td>4.392000</td>\n",
       "      <td>4.392000</td>\n",
       "      <td>41094000</td>\n",
       "    </tr>\n",
       "    <tr>\n",
       "      <th>3</th>\n",
       "      <td>2010-07-02</td>\n",
       "      <td>4.600000</td>\n",
       "      <td>4.620000</td>\n",
       "      <td>4.710000</td>\n",
       "      <td>3.840000</td>\n",
       "      <td>3.840000</td>\n",
       "      <td>25699000</td>\n",
       "    </tr>\n",
       "    <tr>\n",
       "      <th>4</th>\n",
       "      <td>2010-07-06</td>\n",
       "      <td>4.000000</td>\n",
       "      <td>4.000000</td>\n",
       "      <td>4.710000</td>\n",
       "      <td>3.222000</td>\n",
       "      <td>3.222000</td>\n",
       "      <td>34334500</td>\n",
       "    </tr>\n",
       "    <tr>\n",
       "      <th>...</th>\n",
       "      <td>...</td>\n",
       "      <td>...</td>\n",
       "      <td>...</td>\n",
       "      <td>...</td>\n",
       "      <td>...</td>\n",
       "      <td>...</td>\n",
       "      <td>...</td>\n",
       "    </tr>\n",
       "    <tr>\n",
       "      <th>2954</th>\n",
       "      <td>2022-03-23</td>\n",
       "      <td>979.940002</td>\n",
       "      <td>1040.699951</td>\n",
       "      <td>773.317975</td>\n",
       "      <td>999.109985</td>\n",
       "      <td>999.109985</td>\n",
       "      <td>40225400</td>\n",
       "    </tr>\n",
       "    <tr>\n",
       "      <th>2955</th>\n",
       "      <td>2022-03-24</td>\n",
       "      <td>1009.729980</td>\n",
       "      <td>1024.489990</td>\n",
       "      <td>773.317975</td>\n",
       "      <td>1013.919983</td>\n",
       "      <td>1013.919983</td>\n",
       "      <td>22973600</td>\n",
       "    </tr>\n",
       "    <tr>\n",
       "      <th>2956</th>\n",
       "      <td>2022-03-25</td>\n",
       "      <td>1008.000000</td>\n",
       "      <td>1021.799988</td>\n",
       "      <td>773.317975</td>\n",
       "      <td>1010.640015</td>\n",
       "      <td>1010.640015</td>\n",
       "      <td>20642900</td>\n",
       "    </tr>\n",
       "    <tr>\n",
       "      <th>2957</th>\n",
       "      <td>2022-03-28</td>\n",
       "      <td>1065.099976</td>\n",
       "      <td>1097.880005</td>\n",
       "      <td>773.317975</td>\n",
       "      <td>1091.839966</td>\n",
       "      <td>1091.839966</td>\n",
       "      <td>34044700</td>\n",
       "    </tr>\n",
       "    <tr>\n",
       "      <th>2958</th>\n",
       "      <td>2022-03-28</td>\n",
       "      <td>1065.099976</td>\n",
       "      <td>1097.879883</td>\n",
       "      <td>773.317975</td>\n",
       "      <td>1091.839966</td>\n",
       "      <td>1091.839966</td>\n",
       "      <td>34168693</td>\n",
       "    </tr>\n",
       "  </tbody>\n",
       "</table>\n",
       "<p>2959 rows × 7 columns</p>\n",
       "</div>"
      ],
      "text/plain": [
       "            Date         Open         High         Low        Close  \\\n",
       "0     2010-06-29     3.800000     5.000000    4.710000     4.778000   \n",
       "1     2010-06-30     5.158000     6.084000    4.710000     4.766000   \n",
       "2     2010-07-01     5.000000     5.184000    4.710000     4.392000   \n",
       "3     2010-07-02     4.600000     4.620000    4.710000     3.840000   \n",
       "4     2010-07-06     4.000000     4.000000    4.710000     3.222000   \n",
       "...          ...          ...          ...         ...          ...   \n",
       "2954  2022-03-23   979.940002  1040.699951  773.317975   999.109985   \n",
       "2955  2022-03-24  1009.729980  1024.489990  773.317975  1013.919983   \n",
       "2956  2022-03-25  1008.000000  1021.799988  773.317975  1010.640015   \n",
       "2957  2022-03-28  1065.099976  1097.880005  773.317975  1091.839966   \n",
       "2958  2022-03-28  1065.099976  1097.879883  773.317975  1091.839966   \n",
       "\n",
       "        Adj Close    Volume  \n",
       "0        4.778000  93831500  \n",
       "1        4.766000  85935500  \n",
       "2        4.392000  41094000  \n",
       "3        3.840000  25699000  \n",
       "4        3.222000  34334500  \n",
       "...           ...       ...  \n",
       "2954   999.109985  40225400  \n",
       "2955  1013.919983  22973600  \n",
       "2956  1010.640015  20642900  \n",
       "2957  1091.839966  34044700  \n",
       "2958  1091.839966  34168693  \n",
       "\n",
       "[2959 rows x 7 columns]"
      ]
     },
     "execution_count": 18,
     "metadata": {},
     "output_type": "execute_result"
    }
   ],
   "source": [
    "df"
   ]
  },
  {
   "cell_type": "markdown",
   "id": "23a5fe1c",
   "metadata": {},
   "source": [
    "## Доп. Задание\n",
    "Для студентов группы ИУ5-24М, ИУ5И-24М - для произвольной колонки данных построить график \"Скрипичная диаграмма (violin plot)\"."
   ]
  },
  {
   "cell_type": "code",
   "execution_count": 7,
   "id": "07d5b0aa",
   "metadata": {},
   "outputs": [
    {
     "data": {
      "text/plain": [
       "<AxesSubplot:xlabel='Low'>"
      ]
     },
     "execution_count": 7,
     "metadata": {},
     "output_type": "execute_result"
    },
    {
     "data": {
      "image/png": "[encoded data removed]",
      "text/plain": [
       "<Figure size 432x288 with 1 Axes>"
      ]
     },
     "metadata": {
      "needs_background": "light"
     },
     "output_type": "display_data"
    }
   ],
   "source": [
    "sns.violinplot(x=df['Low'])"
   ]
  }
 ],
 "metadata": {
  "kernelspec": {
   "display_name": "Python 3 (ipykernel)",
   "language": "python",
   "name": "python3"
  },
  "language_info": {
   "codemirror_mode": {
    "name": "ipython",
    "version": 3
   },
   "file_extension": ".py",
   "mimetype": "text/x-python",
   "name": "python",
   "nbconvert_exporter": "python",
   "pygments_lexer": "ipython3",
   "version": "3.9.7"
  }
 },
 "nbformat": 4,
 "nbformat_minor": 5
}
